{
 "cells": [
  {
   "cell_type": "code",
   "execution_count": 32,
   "id": "122262a7",
   "metadata": {},
   "outputs": [
    {
     "name": "stdout",
     "output_type": "stream",
     "text": [
      "0\n",
      "3\n",
      "4\n"
     ]
    }
   ],
   "source": [
    "class BtNode:\n",
    "    def __init__(self, value):\n",
    "        self.value = value\n",
    "        self.left = None\n",
    "        self.right = None\n",
    "# Constructing a binary tree\n",
    "root = BtNode(0)\n",
    "root.left = BtNode(1)\n",
    "root.right = BtNode(2)\n",
    "root.left.left = BtNode(3)\n",
    "root.left.right = BtNode(4)\n",
    "\n",
    "list = []\n",
    "list.append(root)\n",
    "list.append(root.left.left)\n",
    "list.append(root.left.right)\n",
    "list.append(root.right)\n",
    "print(list[0].value)\n",
    "print(list[1].value)\n",
    "print(list[2].value)\n",
    "\n"
   ]
  }
 ],
 "metadata": {
  "kernelspec": {
   "display_name": "Python 3",
   "language": "python",
   "name": "python3"
  },
  "language_info": {
   "codemirror_mode": {
    "name": "ipython",
    "version": 3
   },
   "file_extension": ".py",
   "mimetype": "text/x-python",
   "name": "python",
   "nbconvert_exporter": "python",
   "pygments_lexer": "ipython3",
   "version": "3.11.9"
  }
 },
 "nbformat": 4,
 "nbformat_minor": 5
}
